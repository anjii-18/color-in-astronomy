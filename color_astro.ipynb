{
 "cells": [
  {
   "cell_type": "markdown",
   "metadata": {},
   "source": [
    "# Colour in Astronomy"
   ]
  },
  {
   "cell_type": "markdown",
   "metadata": {},
   "source": [
    "## 1. Apparent Magnitudes"
   ]
  },
  {
   "cell_type": "markdown",
   "metadata": {},
   "source": [
    "### Exercise 1: Obtain the apparent BVR magnitudes for your programme stars."
   ]
  },
  {
   "cell_type": "markdown",
   "metadata": {},
   "source": [
    "### Solution:\n",
    "\n",
    "The first step is to obtain instrumental and absolute BVR magnitudes. This is\n",
    "accomplished by observing at least one standard star with known magnitudes on the\n",
    "standard system along with your night’s data and using it to determine the\n",
    "transformation equations. Often the standard star is not in your science images, so\n",
    "you have to take a set of calibration images that measure the standard star in your\n",
    "instrumental system. This usually requires calibration of the differing atmospheric\n",
    "transmission between the observations of the standard and science images, which\n",
    "changes with zenith angle and sky conditions.\n",
    "\n",
    "Let’s assume that the programme and the secondary stars have:"
   ]
  },
  {
   "cell_type": "code",
   "execution_count": 3,
   "metadata": {},
   "outputs": [
    {
     "data": {
      "text/html": [
       "<div>\n",
       "<style scoped>\n",
       "    .dataframe tbody tr th:only-of-type {\n",
       "        vertical-align: middle;\n",
       "    }\n",
       "\n",
       "    .dataframe tbody tr th {\n",
       "        vertical-align: top;\n",
       "    }\n",
       "\n",
       "    .dataframe thead th {\n",
       "        text-align: right;\n",
       "    }\n",
       "</style>\n",
       "<table border=\"1\" class=\"dataframe\">\n",
       "  <thead>\n",
       "    <tr style=\"text-align: right;\">\n",
       "      <th></th>\n",
       "      <th>Target ins</th>\n",
       "      <th>Standard ins</th>\n",
       "      <th>Standard</th>\n",
       "    </tr>\n",
       "  </thead>\n",
       "  <tbody>\n",
       "    <tr>\n",
       "      <th>B-band</th>\n",
       "      <td>20.41</td>\n",
       "      <td>19.86</td>\n",
       "      <td>16.14</td>\n",
       "    </tr>\n",
       "    <tr>\n",
       "      <th>V-band</th>\n",
       "      <td>18.79</td>\n",
       "      <td>18.37</td>\n",
       "      <td>14.64</td>\n",
       "    </tr>\n",
       "    <tr>\n",
       "      <th>R-band</th>\n",
       "      <td>17.56</td>\n",
       "      <td>17.33</td>\n",
       "      <td>13.72</td>\n",
       "    </tr>\n",
       "  </tbody>\n",
       "</table>\n",
       "</div>"
      ],
      "text/plain": [
       "        Target ins  Standard ins  Standard\n",
       "B-band       20.41         19.86     16.14\n",
       "V-band       18.79         18.37     14.64\n",
       "R-band       17.56         17.33     13.72"
      ]
     },
     "execution_count": 3,
     "metadata": {},
     "output_type": "execute_result"
    }
   ],
   "source": [
    "import numpy as np\n",
    "import pandas as pd\n",
    "pd.Series\n",
    "item1=pd.Series({ 'Target ins':20.41,\n",
    "                  'Standard ins':19.86,\n",
    "                  'Standard':16.14})\n",
    "item2=pd.Series({ 'Target ins':18.79,\n",
    "                  'Standard ins':18.37,\n",
    "                  'Standard':14.64})\n",
    "item3=pd.Series({ 'Target ins':17.56,\n",
    "                  'Standard ins':17.33,\n",
    "                  'Standard':13.72})\n",
    "df = pd.DataFrame([item1, item2, item3], index=['B-band', 'V-band', 'R-band'])\n",
    "df.head()"
   ]
  },
  {
   "cell_type": "markdown",
   "metadata": {},
   "source": [
    "###### First calculate the transformation constant C, \n",
    "      Secondary Standard: C = m_std – m_ins.\n"
   ]
  },
  {
   "cell_type": "code",
   "execution_count": 4,
   "metadata": {},
   "outputs": [
    {
     "data": {
      "text/html": [
       "<div>\n",
       "<style scoped>\n",
       "    .dataframe tbody tr th:only-of-type {\n",
       "        vertical-align: middle;\n",
       "    }\n",
       "\n",
       "    .dataframe tbody tr th {\n",
       "        vertical-align: top;\n",
       "    }\n",
       "\n",
       "    .dataframe thead th {\n",
       "        text-align: right;\n",
       "    }\n",
       "</style>\n",
       "<table border=\"1\" class=\"dataframe\">\n",
       "  <thead>\n",
       "    <tr style=\"text-align: right;\">\n",
       "      <th></th>\n",
       "      <th>Target ins</th>\n",
       "      <th>Standard ins</th>\n",
       "      <th>Standard</th>\n",
       "      <th>Secondary Standard (C)</th>\n",
       "    </tr>\n",
       "  </thead>\n",
       "  <tbody>\n",
       "    <tr>\n",
       "      <th>B-band</th>\n",
       "      <td>20.41</td>\n",
       "      <td>19.86</td>\n",
       "      <td>16.14</td>\n",
       "      <td>-3.72</td>\n",
       "    </tr>\n",
       "    <tr>\n",
       "      <th>V-band</th>\n",
       "      <td>18.79</td>\n",
       "      <td>18.37</td>\n",
       "      <td>14.64</td>\n",
       "      <td>-3.73</td>\n",
       "    </tr>\n",
       "    <tr>\n",
       "      <th>R-band</th>\n",
       "      <td>17.56</td>\n",
       "      <td>17.33</td>\n",
       "      <td>13.72</td>\n",
       "      <td>-3.61</td>\n",
       "    </tr>\n",
       "  </tbody>\n",
       "</table>\n",
       "</div>"
      ],
      "text/plain": [
       "        Target ins  Standard ins  Standard  Secondary Standard (C)\n",
       "B-band       20.41         19.86     16.14                   -3.72\n",
       "V-band       18.79         18.37     14.64                   -3.73\n",
       "R-band       17.56         17.33     13.72                   -3.61"
      ]
     },
     "execution_count": 4,
     "metadata": {},
     "output_type": "execute_result"
    }
   ],
   "source": [
    "Stnd=df['Standard']\n",
    "Stnd_ins=df['Standard ins']\n",
    "df['Secondary Standard (C)']=Stnd-Stnd_ins\n",
    "df.head()"
   ]
  },
  {
   "cell_type": "markdown",
   "metadata": {},
   "source": [
    "##### Now, \n",
    "     Use C with Target_ins : m_std = C + m_ins."
   ]
  },
  {
   "cell_type": "code",
   "execution_count": 6,
   "metadata": {},
   "outputs": [
    {
     "data": {
      "text/html": [
       "<div>\n",
       "<style scoped>\n",
       "    .dataframe tbody tr th:only-of-type {\n",
       "        vertical-align: middle;\n",
       "    }\n",
       "\n",
       "    .dataframe tbody tr th {\n",
       "        vertical-align: top;\n",
       "    }\n",
       "\n",
       "    .dataframe thead th {\n",
       "        text-align: right;\n",
       "    }\n",
       "</style>\n",
       "<table border=\"1\" class=\"dataframe\">\n",
       "  <thead>\n",
       "    <tr style=\"text-align: right;\">\n",
       "      <th></th>\n",
       "      <th>Target ins</th>\n",
       "      <th>Standard ins</th>\n",
       "      <th>Standard</th>\n",
       "      <th>Secondary Standard (C)</th>\n",
       "      <th>Target</th>\n",
       "    </tr>\n",
       "  </thead>\n",
       "  <tbody>\n",
       "    <tr>\n",
       "      <th>B-band</th>\n",
       "      <td>20.41</td>\n",
       "      <td>19.86</td>\n",
       "      <td>16.14</td>\n",
       "      <td>-3.72</td>\n",
       "      <td>16.69</td>\n",
       "    </tr>\n",
       "    <tr>\n",
       "      <th>V-band</th>\n",
       "      <td>18.79</td>\n",
       "      <td>18.37</td>\n",
       "      <td>14.64</td>\n",
       "      <td>-3.73</td>\n",
       "      <td>15.06</td>\n",
       "    </tr>\n",
       "    <tr>\n",
       "      <th>R-band</th>\n",
       "      <td>17.56</td>\n",
       "      <td>17.33</td>\n",
       "      <td>13.72</td>\n",
       "      <td>-3.61</td>\n",
       "      <td>13.95</td>\n",
       "    </tr>\n",
       "  </tbody>\n",
       "</table>\n",
       "</div>"
      ],
      "text/plain": [
       "        Target ins  Standard ins  Standard  Secondary Standard (C)  Target\n",
       "B-band       20.41         19.86     16.14                   -3.72   16.69\n",
       "V-band       18.79         18.37     14.64                   -3.73   15.06\n",
       "R-band       17.56         17.33     13.72                   -3.61   13.95"
      ]
     },
     "execution_count": 6,
     "metadata": {},
     "output_type": "execute_result"
    }
   ],
   "source": [
    "C=df['Secondary Standard (C)']\n",
    "T=df['Target ins']\n",
    "df['Target']= T+C\n",
    "df.head()"
   ]
  },
  {
   "cell_type": "markdown",
   "metadata": {},
   "source": [
    "##### Hence, B-V is :"
   ]
  },
  {
   "cell_type": "code",
   "execution_count": 7,
   "metadata": {},
   "outputs": [
    {
     "name": "stdout",
     "output_type": "stream",
     "text": [
      "B-V =  1.62\n"
     ]
    }
   ],
   "source": [
    "m=T['B-band']-T['V-band']\n",
    "print('B-V = ',round(m,2))"
   ]
  },
  {
   "cell_type": "markdown",
   "metadata": {},
   "source": [
    "## 2. Colour of a star"
   ]
  },
  {
   "cell_type": "markdown",
   "metadata": {},
   "source": [
    "### Exercise 2: Spica and Antares are two well-known stars with colour indices (B-V)=-0.13 and (B-V)=+1.83. How many times more blue light (B band) do these objectsemit, as compared to its green light (V band)?Are your objects bluer or redder than the star Vega, which has B-V=0?"
   ]
  },
  {
   "cell_type": "markdown",
   "metadata": {},
   "source": [
    "### Solution:\n",
    "\n",
    "Colour is defined as the difference between the magnitude of a star in one filter and\n",
    "the magnitude of the same star in a different filter.\n",
    "The physical property that magnitude actually measures is radiant flux - the amount\n",
    "of light that arrives in a given area on Earth in a given time. Remember that\n",
    "magnitude is a logarithmic quantity; a magnitude m=4 star emits 2.51 times as much\n",
    "light as a magnitude m=5 star. This allows us to define colour in terms of the\n",
    "amount of light given off by a star. Colour is a difference in magnitudes; B-V is the\n",
    "difference between a star's blue magnitude and the same star's green magnitude.\n",
    "Since magnitude is defined as\n",
    "\n",
    "m = -2.5 log(Fx/Fvega)\n",
    "\n",
    "where Fx is the observed flux in the band x, and Fvega is the flux of the star Vega. The\n",
    "star Vega, in the constellation of Lyra is used as a reference in the magnitude\n",
    "system. Vega has the arbitrary definition of zero magnitude at all wavelengths\n",
    "\n",
    "U=B=V=R=I=0\n",
    "\n",
    "This does not mean that Vega show the same brightness through all filters. It is an\n",
    "arbitrary decision taken by the astronomers who have agreed on taking Vega as the\n",
    "zero point for the magnitude scale."
   ]
  },
  {
   "cell_type": "markdown",
   "metadata": {},
   "source": [
    "###### Spica is the brightest star in the constellation of Virgo and one of the brightest stars in the night-time sky. Spica is believed to be the star that provided Hipparchus with the data which enabled him to discover the precession of equinoxes. It has a colour of B-V=-0.13. Antares, the brightest star in Scorpius, has B-V=1.83. In terms of radiant flux a colour index can be expressed as B-V = -2.5 log (Fblue) + 2,5 log (Fgreen), which is equal to -2,5log(Fblue/Fgreen).\n"
   ]
  },
  {
   "cell_type": "code",
   "execution_count": 20,
   "metadata": {},
   "outputs": [
    {
     "name": "stdout",
     "output_type": "stream",
     "text": [
      "Spica emit 1.13 times more blue light (B band) as compared to its green light (V band)\n",
      "Antares emit 0.19 times more blue light (B band) as compared to its green light (V band)\n"
     ]
    }
   ],
   "source": [
    "spica=-0.13\n",
    "antares=1.83\n",
    "s=spica/-2.5\n",
    "a=antares/-2.5\n",
    "x1=10**s\n",
    "x2=10**a\n",
    "print(\"Spica emit\",round(x1,2),\"times more blue light (B band) as compared to its green light (V band)\")\n",
    "print(\"Antares emit\",round(x2,2),\"times more blue light (B band) as compared to its green light (V band)\")\n"
   ]
  },
  {
   "cell_type": "markdown",
   "metadata": {},
   "source": [
    "###### By definition for Vega , (Fblue/Fgreen) = 1\n",
    "      For Spica , (Fblue/Fgreen) > 1\n",
    "      For Antares , (Fblue/Fgreen) < 1\n",
    "      Therefore, since Spica emits more blue light than Vega it will appear bluer than\n",
    "      Vega. Antares, on the other hand, will appear redder than Vega."
   ]
  },
  {
   "cell_type": "code",
   "execution_count": 22,
   "metadata": {},
   "outputs": [
    {
     "name": "stdout",
     "output_type": "stream",
     "text": [
      "\n",
      "Since Spica emits more blue light than Vega it will appear bluer than Vega.\n",
      "Since Antares emits less blue light than Vega it will appear redder than Vega.\n"
     ]
    }
   ],
   "source": [
    "x3=1\n",
    "if(x1>x3):\n",
    "    print('\\nSince Spica emits more blue light than Vega it will appear bluer than Vega.')\n",
    "else:\n",
    "    print('Since Spica emits less blue light than Vega it will appear redder than Vega.')\n",
    "if(x2>x3):\n",
    "    print('Since Antares emits more blue light than Vega it will appear bluer than Vega.')\n",
    "else:\n",
    "    print('Since Antares emits less blue light than Vega it will appear redder than Vega.')"
   ]
  },
  {
   "cell_type": "markdown",
   "metadata": {},
   "source": [
    "## 3. Colour and Temperature\n",
    "\n",
    "The colour of a star is primarily a function of its effective temperature.A star approximates the behaviour of a black body radiator. As a\n",
    "blackbody gets hotter, its colour changes. If we heat a solid bar, it would\n",
    "first emit radiation in the infrared region. Further heating would see it glow a dull\n",
    "reddish colour. With more heating it could eventually glow orange, yellow, white\n",
    "and eventually blue-hot. Ultimately if it were hot enough a black body emits most of\n",
    "its energy in the ultraviolet region.\n",
    "The colour that we see is usually an additive combination of the emissions from each\n",
    "wavelength. Hot stars appear blue because most energy is emitted in the bluer parts\n",
    "of the spectrum. There is little emission in the blue parts of the spectrum for cool\n",
    "stars - they appear red."
   ]
  },
  {
   "cell_type": "markdown",
   "metadata": {},
   "source": [
    "### Exercise 3: Create a programme that obtains the blackbody energy distribution curve for a given         temperature. "
   ]
  },
  {
   "cell_type": "markdown",
   "metadata": {},
   "source": [
    "### Solution:\n",
    "\n",
    "For, a range of wavelengths (100-30000 Å) we calculate the radiated power of a black\n",
    "body using the Power Density Planck law\n",
    "F( λ )=((2π(cxc))xh)/(λ^5)/((e^(hc/λkT) −1)), \n",
    "h = 6.626 x 10-34 joule s\n",
    "k = 1.381 x 10-23 joule/K\n",
    "c = 2.998 x 108 m/sec\n",
    "λ should be in meters. F(λ) is in units of watts/m3\n",
    "Let us look at two different stars, one with an effective temperature of 12,500 K and\n",
    "the other of 5,000 K. Each of these will produce a spectrum that approximates a\n",
    "black body curve. The diagram below shows these two curves on a normalized\n",
    "intensity plot, that is, we have divided each value of the flux by the maximum value\n",
    "of the flux (if we used a true intensity scale the plot for the 5,000 K star would be\n",
    "dwarfed by that for the hotter star). We can see that in the visible part of the\n",
    "spectrum the curve is sloping down to the right for the 12,500 K star whilst it slopes\n",
    "up for the cooler star. "
   ]
  },
  {
   "cell_type": "code",
   "execution_count": 34,
   "metadata": {},
   "outputs": [
    {
     "data": {
      "image/png": "[encoded data removed]",
      "text/plain": [
       "<Figure size 432x288 with 1 Axes>"
      ]
     },
     "metadata": {
      "needs_background": "light"
     },
     "output_type": "display_data"
    }
   ],
   "source": [
    "import numpy as np\n",
    "import matplotlib.pyplot as plt\n",
    "def energy(l,t):     ## function to calculate radiated power of black body using Planck's law.\n",
    "    l=l*(10**(-10))\n",
    "    h = 6.626*(10**(-34))\n",
    "    k = 1.381*(10**(-23))\n",
    "    c = 2.998*(10**8)\n",
    "    a=(h*c)/(l*k*t)\n",
    "    m=np.exp(a)\n",
    "    f=(2*3.14*(c**2)*h)/((l**5)*(m-1))\n",
    "    return f\n",
    "x = np.arange(100,30000,50)\n",
    "ya1 = energy(x,5000)  ## flux for range of wavelengths at 5000K\n",
    "y1 = ya1/np.max(ya1)  ## normalised flux for range of wavelengths at 5000K\n",
    "ya2 = energy(x,12500) ## flux for range of wavelengths at 12500K\n",
    "y2 = ya2/np.max(ya2)  ## normalised flux for range of wavelengths at 12500K\n",
    "plt.xlabel('Wavelength (Angstrom)')\n",
    "plt.ylabel('Normalised flux')\n",
    "plt.title(\"Comparison of B-V color for 'hot' and 'cold' star.\")\n",
    "plt.plot(x, y1,color='red',label='5000 K')\n",
    "plt.plot(x, y2,color='blue',label='12500 K')\n",
    "plt.legend()\n",
    "plt.show() "
   ]
  },
  {
   "cell_type": "markdown",
   "metadata": {},
   "source": [
    "The blue curve represents the 12,500 K star and red curve is 5000 K star."
   ]
  },
  {
   "cell_type": "code",
   "execution_count": 30,
   "metadata": {},
   "outputs": [
    {
     "data": {
      "image/png": "[encoded data removed]",
      "text/plain": [
       "<Figure size 432x288 with 1 Axes>"
      ]
     },
     "metadata": {
      "needs_background": "light"
     },
     "output_type": "display_data"
    }
   ],
   "source": [
    "p1= energy(4400,5000)/(np.max(ya1)) ## reresents energy at B-band for 5000K.\n",
    "p2=energy(4400,12500)/(np.max(ya2)) ## reresents energy at B-band for 12500K.\n",
    "p3= energy(5500,5000)/(np.max(ya1)) ## reresents energy at V-band for 5000K.\n",
    "p4=energy(5500,12500)/(np.max(ya2)) ## reresents energy at V-band for 12500K.\n",
    "x2= [4400,4400]\n",
    "y_r1= [0,p1] \n",
    "y_b1= [0,p2]\n",
    "y_rf1= [p1,p1] ## Normalised flux for B-band for 5000K. \n",
    "y_bf1= [p2,p2] ## Normalised flux for B-band for 12500K. \n",
    "x3= [0,4400]\n",
    "x4=[5500,5500]\n",
    "y_r2= [0,p3]\n",
    "y_b2= [0,p4]\n",
    "y_rf2= [p3,p3] ## Normalised flux for V-band for 5000K. \n",
    "y_bf2= [p4,p4] ## Normalised flux for V-band for 12500K. \n",
    "x5=[0,5500]\n",
    "plt.xlabel('Wavelength (Angstrom)')\n",
    "plt.ylabel('Normalised flux')\n",
    "plt.title(\"Comparison of B-V color for 'hot' and 'cold' star.\")\n",
    "plt.plot(x, y1,color='red',label='5000 K')\n",
    "plt.plot(x, y2,color='blue',label='12500 K')\n",
    "plt.plot(x2, y_r1,linewidth=1,color='black',linestyle='--',label='B_5000 K')\n",
    "plt.plot(x3, y_rf1,linewidth=1,color='black',linestyle='--',)\n",
    "plt.plot(x2, y_b1,linewidth=1,color='black',label='B_12500 K')\n",
    "plt.plot(x3, y_bf1,linewidth=1,color='black')\n",
    "plt.plot(x4, y_r2,linewidth=1,color='brown',linestyle='--',label='V_5000 K')\n",
    "plt.plot(x5, y_rf2,linewidth=1,color='brown',linestyle='--',)\n",
    "plt.plot(x4, y_b2,linewidth=1,color='brown',label='V_12500 K')\n",
    "plt.plot(x5, y_bf2,linewidth=1,color='brown')\n",
    "plt.legend()\n",
    "plt.show() "
   ]
  },
  {
   "cell_type": "markdown",
   "metadata": {},
   "source": [
    "Blue curve emits more energy in the B waveband than in the V waveband. This means that it is brighter in B than in V, therefore its apparent magnitude B will be lower than apparent magnitude V. The colour Index is\n",
    "B – V, so for this star it will be < 0, that is, negative. The red curve represents the\n",
    "5000 K star. For this B-V is positive."
   ]
  },
  {
   "cell_type": "markdown",
   "metadata": {},
   "source": [
    "### Exercise 4: Create several blackbody energy distribution curves for 9 different temperatures ranging from 3000K to 20000K (do not forget the curve that corresponds to T=9790 K, Vega’s effective temperature). Taking into account the effective wavelengths for the various filters given bellow, annotate the flux values for each filter and each curve and create a (B-V)-temperature plot. What do you observe? Which end of the line in your graph corresponds to hotter stars? Which corresponds to cooler stars? How do you know? Calculate the temperature of Spica and Antares and compare the values that you get with those found in precise measurements. Why are your values of the temperature lower than the real ones? In other words, why are they redder than they should be?\n",
    "\n",
    "In terms of flux,\n",
    "\n",
    "B-V = (-2.5)*(np.log10((Fb x Fv_vega)/(Fv x Fb_vega)))\n",
    "\n",
    "If we calculate the B-V colour index for each curve and represent the blackbody\n",
    "temperature as a function of the colour you should get a plot like this:\n"
   ]
  },
  {
   "cell_type": "code",
   "execution_count": 35,
   "metadata": {},
   "outputs": [
    {
     "data": {
      "image/png": "[encoded data removed]",
      "text/plain": [
       "<Figure size 432x288 with 1 Axes>"
      ]
     },
     "metadata": {
      "needs_background": "light"
     },
     "output_type": "display_data"
    }
   ],
   "source": [
    "import numpy as np\n",
    "import matplotlib.pyplot as plt\n",
    "def energy(l,t):        ## function to calculate radiated power of black body using Planck's law.\n",
    "    l=l*(10**(-10))\n",
    "    h = 6.626*(10**(-34))\n",
    "    k = 1.381*(10**(-23))\n",
    "    c = 2.998*(10**8)\n",
    "    a=(h*c)/(l*k*t)\n",
    "    m=np.exp(a)\n",
    "    f=(2*3.14*(c**2)*h)/((l**5)*(m-1))\n",
    "    return f\n",
    "x=np.arange(2500,22500,2500)\n",
    "Fb=energy(4400,x)\n",
    "Fv=energy(5500,x)\n",
    "Fv_vega=energy(5500,9790)   ## flux for B-band at Vega’s effective temperature.\n",
    "Fb_vega=energy(4400,9790)   ## flux for V-band at Vega’s effective temperature.\n",
    "e=(Fb*Fv_vega)/(Fv*Fb_vega)\n",
    "b= (-2.5)*(np.log10(e))\n",
    "plt.plot(b,x,marker='o', color='red',linewidth=0.5,markerfacecolor='blue', markersize=5)\n",
    "plt.xlabel(\"B-V\")\n",
    "plt.ylabel(\"Temperature(K)\")\n",
    "plt.title(\"Relationship between color and temperatures from black body curves\")\n",
    "plt.ylim(0,22500)\n",
    "plt.show() "
   ]
  },
  {
   "cell_type": "markdown",
   "metadata": {},
   "source": [
    "We observe that as the B-V of stars increases, more its temperature decreases and more cooler it becomes.\n",
    "The left side of graph represents the hotter stars, which have actually low B-V, \n",
    "and the right side represents the hotter stars, which have high B-V,  Since we saw that the above graph of relationship between color and temperatures from black body curves comes out to be inversely proportional."
   ]
  },
  {
   "cell_type": "markdown",
   "metadata": {},
   "source": [
    "Spica has (B-V)=-0.13 and Antares (B-V)=1.83.We can deduce approximately the temperatures: 3000 K for Antares and 12300 K for Spica. The real temperatures of Antares and Spica are 3400 K and 18000 K, respectively.\n"
   ]
  },
  {
   "cell_type": "markdown",
   "metadata": {},
   "source": [
    "The main reason for the discrepancy in the temperature is that only the peak wavelength has been used to derive the B and V magnitudes, without taking into account the transmission curves of each filter."
   ]
  },
  {
   "cell_type": "markdown",
   "metadata": {},
   "source": [
    "Another reason why we obtain lower temperatures is that the Interstellar space is\n",
    "not a perfect vacuum. The interstellar medium (ISM) comprises cold neutral gas (H I\n",
    "at ≈ 70 K), warm neutral gas (H I at 6,000 K) and hot ionised plasma (H II at 106\n",
    "K)\n",
    "primarily located in the plane of the galaxy in the spiral arms. Cosmic dust is made\n",
    "up of small grains of silicates, iron, carbon, frozen water and ammonia ice 0.1 to 0.01\n",
    "microns (μm) in size. Although this cosmic dust only makes up 1% of the mass of the\n",
    "ISM, it absorbs and scatters light from stars. This means that light from a distant star\n",
    "is reduced in intensity so that the star appears dimmer than it would be if there was\n",
    "no intervening material."
   ]
  },
  {
   "cell_type": "markdown",
   "metadata": {},
   "source": [
    "### Exercise 5: Using the blackbody curves obtained in the previous exercise, annotate the wavelength at which the flux is maximum. What do you observe? Create a plot of temperature as a function of the λpeak using a logaritmic scale. What do you observe? Fit a function (straight line) to the data and calculate Wien’s constant. The Sun has a peak wavelength of thermal radiation of 5300 Å. What is the Sun's average temperature? And for the Polar star which has λpeak=3500 Å."
   ]
  },
  {
   "cell_type": "code",
   "execution_count": 40,
   "metadata": {},
   "outputs": [
    {
     "data": {
      "image/png": "[encoded data removed]",
      "text/plain": [
       "<Figure size 432x288 with 1 Axes>"
      ]
     },
     "metadata": {
      "needs_background": "light"
     },
     "output_type": "display_data"
    }
   ],
   "source": [
    "import numpy as np\n",
    "import matplotlib.pyplot as plt\n",
    "def energy(l,t):\n",
    "    l=l*(10**(-10))\n",
    "    h = 6.626*(10**(-34))\n",
    "    k = 1.381*(10**(-23))\n",
    "    c = 2.998*(10**8)\n",
    "    a=(h*c)/(l*k*t)\n",
    "    m=np.exp(a)\n",
    "    f=(2*3.14*(c**2)*h)/((l**5)*(m-1))\n",
    "    return f\n",
    "x = np.arange(100,30000,50)\n",
    "\n",
    "t = range(2500,22500,2500)\n",
    "\n",
    "for i in t:\n",
    "    y=energy(x,i)\n",
    "    plt.plot(x, y,label=i)\n",
    "plt.xscale('log')\n",
    "plt.ylim([10**11,10**17])\n",
    "plt.yscale('log')\n",
    "plt.ylabel(\"Flux(watts/(m^3)\")\n",
    "plt.xlabel(\"Wavelength(Å)\")\n",
    "plt.title(\"Blackbody curves for thermal bodies at different temperatures.\")\n",
    "plt.legend()\n",
    "plt.show()  "
   ]
  },
  {
   "cell_type": "markdown",
   "metadata": {},
   "source": [
    "Thermal radiation is emitted by stars. The curves show that\n",
    "hotter stars give off more thermal radiation. The curves also show that the peak\n",
    "wavelength of the thermal radiation moves to shorter wavelengths as the\n",
    "temperature increases."
   ]
  },
  {
   "cell_type": "markdown",
   "metadata": {},
   "source": [
    "###### Temperature and Peak Wavelength (Wien’s law): \n",
    "Wien's Law tells us that objects of different temperature emit spectra that peak at different wavelengths."
   ]
  },
  {
   "cell_type": "markdown",
   "metadata": {},
   "source": [
    "Hotter objects emit most of their radiation at shorter wavelengthsamd  hence\n",
    "they will appear to be bluer.Cooler objects emit most of their radiation at longer wavelengths and hence\n",
    "they will appear to be redder.\n",
    "Furthermore, at any wavelength, a hotter object radiates more (is more luminous)\n",
    "than a cooler one. We can understand this by the size of the area that encloses each\n",
    "curve."
   ]
  },
  {
   "cell_type": "code",
   "execution_count": 42,
   "metadata": {},
   "outputs": [
    {
     "data": {
      "image/png": "[encoded data removed]",
      "text/plain": [
       "<Figure size 432x288 with 1 Axes>"
      ]
     },
     "metadata": {
      "needs_background": "light"
     },
     "output_type": "display_data"
    }
   ],
   "source": [
    "import numpy as np\n",
    "import matplotlib.pyplot as plt\n",
    "def energy(l,t):\n",
    "    l=l*(10**(-10))\n",
    "    h = 6.626*(10**(-34))\n",
    "    k = 1.381*(10**(-23))\n",
    "    c = 2.998*(10**8)\n",
    "    a=(h*c)/(l*k*t)\n",
    "    m=np.exp(a)\n",
    "    f=(2*3.14*(c**2)*h)/((l**5)*(m-1))\n",
    "    return f\n",
    "x = np.arange(100,30000,50)\n",
    "\n",
    "t = range(2500,22500,2500)\n",
    "k=[]\n",
    "for i in t:\n",
    "    y=energy(x,i)\n",
    "    ya=np.max(y)\n",
    "    for j in x:\n",
    "        yt=energy(j,i)\n",
    "        if yt==ya:\n",
    "            k.append(j)\n",
    "tl=np.log10(t)\n",
    "xp=np.log10(k)\n",
    "plt.plot(xp,tl,color='red',marker='o',linewidth=0.5,markerfacecolor='blue', markersize=5)\n",
    "plt.xlabel(\"log(λpeak)Å\")\n",
    "plt.ylabel(\"log(T)K\")\n",
    "plt.title(\"Temperature as a function of peak wavelength\")\n",
    "plt.show()"
   ]
  },
  {
   "cell_type": "markdown",
   "metadata": {},
   "source": [
    "The best-fit is\n",
    "\n",
    "Log(T K) = 7.4574 - 0.9986 log ( λpeak (Å))\n",
    "\n",
    "\n",
    "thus,\n",
    "λpeak T = 107.4574 = 28668171.9 Å K\n",
    "\n",
    "\n",
    "The Wien’s constant in units of the International System that we find from our data\n",
    "is\n",
    "2.867 x (10^(-3))m K  which can be compared with the carefully measured relationship between\n",
    "temperature and peak wavelength of thermal radiation.\n",
    "\n",
    "λpeak T = 2.897 x (10^(-3)) m K,\n",
    "where λpeak is measured in meters and T is measured in Kelvin.\n"
   ]
  },
  {
   "cell_type": "markdown",
   "metadata": {},
   "source": [
    "..The Sun's peak wavelength is 5300 Angstroms.\n",
    "\n",
    "    Convert this length to meters:\n",
    "    1 meter = 1010 Angstroms\n",
    "    5300 Angstroms (1 m/ 1010 Angstroms) = 5.3 x (10^(-7)) m.\n",
    "    Insert this length into the peak wavelength equation:\n",
    "    λpeak T = 2.897 x (10^(-3)) m K.\n",
    "    to get T : (5.3 x (10^(-7)) m) T = 2.897 x (10^(-3)) m K.\n",
    "    Now, solve for T: \n",
    "    T = (2.897 x (10^(-3)) m K) / (5.3 x (10^(-7)) m) = 5460 K\n",
    "    Thus, Sun's average temperature is 5460 K."
   ]
  },
  {
   "cell_type": "markdown",
   "metadata": {},
   "source": [
    "..The Polar star's peak wavelength is 3500 Angstroms.\n",
    "\n",
    "    Convert this length to meters:\n",
    "    1 meter = 1010 Angstroms\n",
    "    3500 Angstroms (1 m/ 1010 Angstroms) = 3.5 x (10^(-7)) m.\n",
    "    Insert this length into the peak wavelength equation:\n",
    "    λpeak T = 2.897 x (10^(-3)) m K.\n",
    "    to get T : (3.5 x (10^(-7)) m) T = 2.897 x (10^(-3)) m K.\n",
    "    Now, solve for T: \n",
    "    T = (2.897 x (10^(-3)) m K) / (3.5 x (10^(-7)) m) = 8534 K\n",
    "    Thus, Polar star's average temperature is 8534 K."
   ]
  },
  {
   "cell_type": "code",
   "execution_count": null,
   "metadata": {},
   "outputs": [],
   "source": []
  }
 ],
 "metadata": {
  "kernelspec": {
   "display_name": "Python 3",
   "language": "python",
   "name": "python3"
  },
  "language_info": {
   "codemirror_mode": {
    "name": "ipython",
    "version": 3
   },
   "file_extension": ".py",
   "mimetype": "text/x-python",
   "name": "python",
   "nbconvert_exporter": "python",
   "pygments_lexer": "ipython3",
   "version": "3.7.6"
  }
 },
 "nbformat": 4,
 "nbformat_minor": 4
}
